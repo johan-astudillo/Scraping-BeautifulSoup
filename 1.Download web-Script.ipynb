{
 "cells": [
  {
   "cell_type": "markdown",
   "id": "017953ed",
   "metadata": {},
   "source": [
    "# For www.filetechn.com\n",
    "# 1. Download WEB"
   ]
  },
  {
   "cell_type": "code",
   "execution_count": null,
   "id": "a98aebcb",
   "metadata": {},
   "outputs": [],
   "source": [
    "import requests"
   ]
  },
  {
   "cell_type": "code",
   "execution_count": null,
   "id": "ec33df37",
   "metadata": {},
   "outputs": [],
   "source": [
    "url = \"https://www.filetechn.com/\""
   ]
  },
  {
   "cell_type": "code",
   "execution_count": null,
   "id": "0cf20a1a",
   "metadata": {},
   "outputs": [],
   "source": [
    "page = requests.get(url)"
   ]
  },
  {
   "cell_type": "code",
   "execution_count": null,
   "id": "eba04a8f",
   "metadata": {},
   "outputs": [],
   "source": [
    "page.status_code\n",
    "# if is 200 is good"
   ]
  },
  {
   "cell_type": "code",
   "execution_count": null,
   "id": "ef9dc959",
   "metadata": {},
   "outputs": [],
   "source": [
    "print(page.text)"
   ]
  },
  {
   "cell_type": "code",
   "execution_count": null,
   "id": "74a63979",
   "metadata": {},
   "outputs": [],
   "source": [
    "page.content"
   ]
  },
  {
   "cell_type": "code",
   "execution_count": null,
   "id": "7d411492",
   "metadata": {},
   "outputs": [],
   "source": [
    "page.headers"
   ]
  },
  {
   "cell_type": "code",
   "execution_count": null,
   "id": "2a717f0a",
   "metadata": {},
   "outputs": [],
   "source": [
    "page.request.method"
   ]
  },
  {
   "cell_type": "code",
   "execution_count": null,
   "id": "73b78130",
   "metadata": {},
   "outputs": [],
   "source": [
    "page.request.url"
   ]
  },
  {
   "cell_type": "code",
   "execution_count": null,
   "id": "0b76c3d7",
   "metadata": {},
   "outputs": [],
   "source": [
    "#Code in description"
   ]
  }
 ],
 "metadata": {
  "celltoolbar": "Raw Cell Format",
  "kernelspec": {
   "display_name": "Python 3 (ipykernel)",
   "language": "python",
   "name": "python3"
  },
  "language_info": {
   "codemirror_mode": {
    "name": "ipython",
    "version": 3
   },
   "file_extension": ".py",
   "mimetype": "text/x-python",
   "name": "python",
   "nbconvert_exporter": "python",
   "pygments_lexer": "ipython3",
   "version": "3.10.8"
  }
 },
 "nbformat": 4,
 "nbformat_minor": 5
}
