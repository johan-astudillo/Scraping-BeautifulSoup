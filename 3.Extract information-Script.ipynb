{
 "cells": [
  {
   "cell_type": "markdown",
   "id": "017953ed",
   "metadata": {},
   "source": [
    "# For www.filetechn.com\n",
    "# 1. Download WEB"
   ]
  },
  {
   "cell_type": "code",
   "execution_count": null,
   "id": "a98aebcb",
   "metadata": {},
   "outputs": [],
   "source": [
    "import requests"
   ]
  },
  {
   "cell_type": "code",
   "execution_count": null,
   "id": "ec33df37",
   "metadata": {},
   "outputs": [],
   "source": [
    "url = \"https://www.filetechn.com/\""
   ]
  },
  {
   "cell_type": "code",
   "execution_count": null,
   "id": "0cf20a1a",
   "metadata": {},
   "outputs": [],
   "source": [
    "page = requests.get(url)"
   ]
  },
  {
   "cell_type": "code",
   "execution_count": null,
   "id": "eba04a8f",
   "metadata": {},
   "outputs": [],
   "source": [
    "page.status_code\n",
    "# if is 200 is good"
   ]
  },
  {
   "cell_type": "code",
   "execution_count": null,
   "id": "ef9dc959",
   "metadata": {},
   "outputs": [],
   "source": [
    "print(page.text)"
   ]
  },
  {
   "cell_type": "code",
   "execution_count": null,
   "id": "74a63979",
   "metadata": {},
   "outputs": [],
   "source": [
    "page.content"
   ]
  },
  {
   "cell_type": "code",
   "execution_count": null,
   "id": "7d411492",
   "metadata": {},
   "outputs": [],
   "source": [
    "page.headers"
   ]
  },
  {
   "cell_type": "code",
   "execution_count": null,
   "id": "2a717f0a",
   "metadata": {},
   "outputs": [],
   "source": [
    "page.request.method"
   ]
  },
  {
   "cell_type": "code",
   "execution_count": null,
   "id": "73b78130",
   "metadata": {},
   "outputs": [],
   "source": [
    "page.request.url"
   ]
  },
  {
   "cell_type": "markdown",
   "id": "429b9f27",
   "metadata": {},
   "source": [
    "## 2. Parse HTML with BeautifulSoup"
   ]
  },
  {
   "cell_type": "code",
   "execution_count": null,
   "id": "8833eba0",
   "metadata": {},
   "outputs": [],
   "source": [
    "from bs4 import BeautifulSoup"
   ]
  },
  {
   "cell_type": "code",
   "execution_count": null,
   "id": "1b451756",
   "metadata": {},
   "outputs": [],
   "source": [
    "s = BeautifulSoup(page.text, 'lxml')"
   ]
  },
  {
   "cell_type": "code",
   "execution_count": null,
   "id": "ca6c5d62",
   "metadata": {},
   "outputs": [],
   "source": [
    "type(s)"
   ]
  },
  {
   "cell_type": "code",
   "execution_count": null,
   "id": "b55741ec",
   "metadata": {},
   "outputs": [],
   "source": [
    "print(s.prettify())"
   ]
  },
  {
   "cell_type": "code",
   "execution_count": null,
   "id": "b2506f5a",
   "metadata": {},
   "outputs": [],
   "source": [
    "# get 1 section\n",
    "find_1_title = s.find('h2', attrs={'class':'admania-entrytitle'}).find_all('a')\n",
    "find_1_title"
   ]
  },
  {
   "cell_type": "markdown",
   "id": "9901775c",
   "metadata": {},
   "source": [
    "## 3. Extract information"
   ]
  },
  {
   "cell_type": "code",
   "execution_count": null,
   "id": "a7bc694c",
   "metadata": {},
   "outputs": [],
   "source": [
    "# GET ALL SECTION, and titles\n",
    "titles = s.find_all('h2', attrs={'class':'admania-entrytitle'})\n",
    "\n",
    "titles\n"
   ]
  },
  {
   "cell_type": "code",
   "execution_count": null,
   "id": "8422ccaa",
   "metadata": {},
   "outputs": [],
   "source": [
    "title = titles[0]\n",
    "# get title\n",
    "title.a.get_text()"
   ]
  },
  {
   "cell_type": "code",
   "execution_count": null,
   "id": "3c087cc7",
   "metadata": {},
   "outputs": [],
   "source": [
    "# get LINK\n",
    "title.a.get('href')"
   ]
  },
  {
   "cell_type": "code",
   "execution_count": null,
   "id": "e50e7ac3",
   "metadata": {},
   "outputs": [],
   "source": [
    "#get all links\n",
    "links_titles = [title.a.get('href') for title in titles]\n",
    "links_titles"
   ]
  },
  {
   "cell_type": "code",
   "execution_count": null,
   "id": "7872dbe3",
   "metadata": {},
   "outputs": [],
   "source": [
    "#get all titles\n",
    "name_titles = [title.a.get_text() for title in titles]\n",
    "name_titles"
   ]
  },
  {
   "cell_type": "code",
   "execution_count": null,
   "id": "5c2b413f",
   "metadata": {},
   "outputs": [],
   "source": [
    "# Now, try if 1 web is working\n",
    "# https://www.filetechn.com/tutoriales/convertir-imagen-a-texto-en-android/\n",
    "valid_1_link = requests.get(links_titles[0])\n",
    "valid_1_link\n"
   ]
  },
  {
   "cell_type": "code",
   "execution_count": null,
   "id": "9342ac6b",
   "metadata": {},
   "outputs": [],
   "source": [
    "# try with all pages\n",
    "for i in len(titles):\n",
    "    valid_all_links = requests.get(link_titles[0])\n",
    "valid_all_links\n"
   ]
  },
  {
   "cell_type": "code",
   "execution_count": null,
   "id": "7361a81c",
   "metadata": {},
   "outputs": [],
   "source": [
    "# xml\n",
    "title_1 = BeautifulSoup(valid_1_link.text,'lxml')"
   ]
  },
  {
   "cell_type": "code",
   "execution_count": null,
   "id": "602d8097",
   "metadata": {},
   "outputs": [],
   "source": [
    "print(title_1.prettify)"
   ]
  },
  {
   "cell_type": "code",
   "execution_count": null,
   "id": "d5c91f2e",
   "metadata": {},
   "outputs": [],
   "source": [
    "# get XPATH\n",
    "from lxml import etree\n",
    "text = etree.HTML(str(title_1))"
   ]
  },
  {
   "cell_type": "code",
   "execution_count": null,
   "id": "67dd294d",
   "metadata": {},
   "outputs": [],
   "source": [
    "# IS A span then, is text\n",
    "text.xpath('/html/body/div[2]/div[2]/main/div[1]/div[1]/article/div[2]/div[1]/div/div/section[1]/div/div/div/div/div/div/div/div/h2[4]/span')[0].text\n"
   ]
  },
  {
   "cell_type": "code",
   "execution_count": null,
   "id": "88844d17",
   "metadata": {},
   "outputs": [],
   "source": [
    "# get a link with xpath\n",
    "text.xpath('/html/body/div[2]/div[2]/main/div[1]/div[1]/article/div[2]/div[1]/div/div/section[1]/div/div/div/div/div/div/div/div/h2[3]/a')[0].get('href')\n"
   ]
  },
  {
   "cell_type": "code",
   "execution_count": null,
   "id": "acec4a06",
   "metadata": {},
   "outputs": [],
   "source": []
  }
 ],
 "metadata": {
  "kernelspec": {
   "display_name": "Python 3 (ipykernel)",
   "language": "python",
   "name": "python3"
  },
  "language_info": {
   "codemirror_mode": {
    "name": "ipython",
    "version": 3
   },
   "file_extension": ".py",
   "mimetype": "text/x-python",
   "name": "python",
   "nbconvert_exporter": "python",
   "pygments_lexer": "ipython3",
   "version": "3.10.8"
  }
 },
 "nbformat": 4,
 "nbformat_minor": 5
}
