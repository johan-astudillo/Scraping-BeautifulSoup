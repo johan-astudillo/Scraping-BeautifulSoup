{
 "cells": [
  {
   "cell_type": "markdown",
   "id": "017953ed",
   "metadata": {},
   "source": [
    "# For www.filetechn.com\n",
    "# 1. Download WEB"
   ]
  },
  {
   "cell_type": "code",
   "execution_count": null,
   "id": "a98aebcb",
   "metadata": {},
   "outputs": [],
   "source": [
    "import requests"
   ]
  },
  {
   "cell_type": "code",
   "execution_count": null,
   "id": "ec33df37",
   "metadata": {},
   "outputs": [],
   "source": [
    "url = \"https://www.filetechn.com/\""
   ]
  },
  {
   "cell_type": "code",
   "execution_count": null,
   "id": "0cf20a1a",
   "metadata": {},
   "outputs": [],
   "source": [
    "page = requests.get(url)"
   ]
  },
  {
   "cell_type": "code",
   "execution_count": null,
   "id": "eba04a8f",
   "metadata": {},
   "outputs": [],
   "source": [
    "page.status_code\n",
    "# if is 200 is good"
   ]
  },
  {
   "cell_type": "code",
   "execution_count": null,
   "id": "ef9dc959",
   "metadata": {},
   "outputs": [],
   "source": [
    "print(page.text)"
   ]
  },
  {
   "cell_type": "code",
   "execution_count": null,
   "id": "74a63979",
   "metadata": {},
   "outputs": [],
   "source": [
    "page.content"
   ]
  },
  {
   "cell_type": "code",
   "execution_count": null,
   "id": "7d411492",
   "metadata": {},
   "outputs": [],
   "source": [
    "page.headers"
   ]
  },
  {
   "cell_type": "code",
   "execution_count": null,
   "id": "73b78130",
   "metadata": {},
   "outputs": [],
   "source": [
    "page.request.url"
   ]
  },
  {
   "cell_type": "code",
   "execution_count": null,
   "id": "0b76c3d7",
   "metadata": {},
   "outputs": [],
   "source": [
    "#Code in description"
   ]
  },
  {
   "cell_type": "markdown",
   "id": "d044e032",
   "metadata": {},
   "source": [
    "## 2. Parse HTML with BeautifulSoup"
   ]
  },
  {
   "cell_type": "code",
   "execution_count": null,
   "id": "f59952b7",
   "metadata": {},
   "outputs": [],
   "source": [
    "from bs4 import BeautifulSoup"
   ]
  },
  {
   "cell_type": "code",
   "execution_count": null,
   "id": "2f9f1438",
   "metadata": {},
   "outputs": [],
   "source": [
    "soup = BeautifulSoup(page.text, 'lxml')"
   ]
  },
  {
   "cell_type": "code",
   "execution_count": null,
   "id": "30160f1f",
   "metadata": {},
   "outputs": [],
   "source": [
    "type(soup)"
   ]
  },
  {
   "cell_type": "code",
   "execution_count": null,
   "id": "33bc2515",
   "metadata": {},
   "outputs": [],
   "source": [
    "print(soup.prettify())\n",
    "# Is sort"
   ]
  },
  {
   "cell_type": "code",
   "execution_count": null,
   "id": "e61f901b",
   "metadata": {},
   "outputs": [],
   "source": [
    "# find  GET TEXT is a h2 - Class = admania-entrytitle and attribute a \n",
    "soup.find('h2', attrs={'class': 'admania-entrytitle'}).find_all('a')"
   ]
  },
  {
   "cell_type": "code",
   "execution_count": null,
   "id": "55ac0a38",
   "metadata": {},
   "outputs": [],
   "source": [
    "# code in description "
   ]
  }
 ],
 "metadata": {
  "kernelspec": {
   "display_name": "Python 3 (ipykernel)",
   "language": "python",
   "name": "python3"
  },
  "language_info": {
   "codemirror_mode": {
    "name": "ipython",
    "version": 3
   },
   "file_extension": ".py",
   "mimetype": "text/x-python",
   "name": "python",
   "nbconvert_exporter": "python",
   "pygments_lexer": "ipython3",
   "version": "3.10.8"
  }
 },
 "nbformat": 4,
 "nbformat_minor": 5
}
